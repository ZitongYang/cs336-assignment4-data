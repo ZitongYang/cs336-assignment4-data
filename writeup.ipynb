{
 "cells": [
  {
   "cell_type": "markdown",
   "metadata": {},
   "source": [
    "# 1) `look_at_cc`\n",
    "\n",
    "## a)\n",
    "* The URL is `http://000-084.smartcode.com/`.\n",
    "* it is not accessible anymore. But I can access using wayback machine `https://web.archive.org/web/20160614010624/http://000-084.smartcode.com/`.\n",
    "* From html, it seems to be some software tutorial website. In general very hard to figrue out.\n",
    "## b)\n",
    "* Yes. From example\n",
    "  ```\n",
    "  000 084 exam - our 000 084 - IBM 000-084 - Download 000-084 - 000 084 Exam Demo - 000 084 Exam - hp0 084 practice - our hp0 084 - 9A0-084 - ADOBE 9A0-084\n",
    "  000 084 in Software Title\n",
    "  ```\n",
    "  looks like something should have been filtered.\n",
    "* Training a raw model on this just wouldn't allow model to understand language.\n",
    "* The useful information to me are mainly some short coherent english words and phrases.\n",
    "## c)\n",
    "* Potentially good: training an LM that mimic exact webpage data.\n",
    "* Potentially bad: training a model that can have conversation.\n",
    "## d)\n",
    " \n",
    "|    | Language | Domain                                                                                                                           | Type of page       | Notes                                 |\n",
    "  |----|----------|----------------------------------------------------------------------------------------------------------------------------------|--------------------|---------------------------------------|\n",
    "  | 1  | en       | `http://000-084.smartcode.com/`                                                                                                  | Software info      | Not really confident about annotation |\n",
    "  | 2  | en       | `http://00000000sexbom.quickloansforbadcredit.org/alissabeautyx-fuck`                                                            | Webcam             | Clearly harmful content               |\n",
    "  | 3  | cn       | `http://00000028.cn/news.asp?id=1279`                                                                                            | Tutorial           |                                       |\n",
    "  | 4  | ru       | `http://01click.ru/per/il-cnd-rescuerxx-il-trattamento-keratin-quotidiano-significa-per -trattamento-di-risposte-di-unghie.html` | Can't tell         |                                       |\n",
    "  | 5  | ru       | `http://01click.ru/trattamento-unghie/trattamento-di-un-fungo-di-unghie-il-laser-in-ivanov.html`                                 | Can't tell         |                                       |\n",
    "  | 5  | en       | `http://01webdirectory.com/baked-goods.html`                                                                                     | Bakery recipe      |                                       |\n",
    "  | 7  | nl       | `http://0255.e-spots.nl/?id=1564`                                                                                                | Can't tell         |                                       |\n",
    "  | 8  | ru       | `http://03online.com/news/beremennost/2014-7-29-30380`                                                                           | Don't know Russian |                                       |\n",
    "  | 9  | nl       | `http://0485.e-spots.nl/?categorie=34`                                                                                           | Same as before     |                                       |\n",
    "  | 10 | cn       | `http://0509.7540.info/index.phtml?PUT=a_vote_edit&amp;AID=80828`                                                                | Harmful webpage    |                                       |"
   ]
  },
  {
   "cell_type": "markdown",
   "metadata": {},
   "source": [
    "# 2) `extract_text`\n",
    "\n",
    "## b)\n",
    "\n",
    "* In general, I think they are quite similar. The WET extraction seems better to me. The manual extraction contains a lot of unneeded white spaces."
   ]
  },
  {
   "cell_type": "markdown",
   "metadata": {},
   "source": [
    "# 3) `language_identification`\n",
    "\n",
    "## b)\n",
    "When language filtering doesn't function properly. We may get a lot of pretraining data that is not a part of the target language. This can lead to a model that is not able to understand the target language well.\n",
    "\n",
    "## c)\n",
    "After I run 20 times, I get the following results `['en', 'en', 'zh', 'it', 'it', 'en', 'nl', 'ru', 'nl', 'zh', 'zh', 'zh', 'en', 'ja', 'zh', 'zh', 'zh', 'zh', 'zh', 'zh']`. The examples are all correct except one, where the website has no extracted content but the model still classify it as some language. 20% of them is English. I guess 0.7~0.8 is a reasonable cutoff.\n"
   ]
  },
  {
   "cell_type": "markdown",
   "metadata": {},
   "source": [
    "# 4) `mask_pii`\n",
    "\n",
    "\n",
    "## d)\n",
    "Introduction of unusual tokens such as `|||EMAIL_ADDRESS|||` may skew the model's understanding of the language. To mitigate this, we may introduce some natural language description around the sensitive informations.\n",
    "\n",
    "## e)\n",
    "The filtering is mostly done robustly. Positive examples include many phone numbers. Negative examples in IP address: `Version 3.2.2.0` classified as IP address."
   ]
  },
  {
   "cell_type": "markdown",
   "metadata": {
    "vscode": {
     "languageId": "plaintext"
    }
   },
   "source": [
    "# 5) `harmful_content`\n",
    "\n",
    "## c)\n",
    "Removing all these content may result in language not understanding what hardmful contents are. For example, if we remove all harmful content, the model may not be able to understand what is harmful content.\n",
    "\n",
    "## d)\n",
    "Around 40% of the example I tried are hardmful. Inspecting mannualy, the classification seems to be accurate. A reasonable thereshold seems to be 0.7~0.8."
   ]
  },
  {
   "cell_type": "markdown",
   "metadata": {},
   "source": [
    "# 6) `gopher_quality_filters`\n",
    "\n",
    "## b)\n",
    "The filter mostly behave as I imagined. The filtered content are not coherent language."
   ]
  }
 ],
 "metadata": {
  "kernelspec": {
   "display_name": "cs336_data",
   "language": "python",
   "name": "python3"
  },
  "language_info": {
   "name": "python",
   "version": "3.10.14"
  }
 },
 "nbformat": 4,
 "nbformat_minor": 2
}
